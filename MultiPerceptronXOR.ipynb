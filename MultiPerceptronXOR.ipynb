{
 "cells": [
  {
   "cell_type": "code",
   "execution_count": 1,
   "metadata": {},
   "outputs": [
    {
     "name": "stderr",
     "output_type": "stream",
     "text": [
      "/home/ywdavid/anaconda3/envs/env4/lib/python3.8/site-packages/tqdm/auto.py:22: TqdmWarning: IProgress not found. Please update jupyter and ipywidgets. See https://ipywidgets.readthedocs.io/en/stable/user_install.html\n",
      "  from .autonotebook import tqdm as notebook_tqdm\n"
     ]
    }
   ],
   "source": [
    "# Lab 9 XOR\n",
    "import torch"
   ]
  },
  {
   "cell_type": "code",
   "execution_count": 2,
   "metadata": {},
   "outputs": [],
   "source": [
    "device = 'cuda' if torch.cuda.is_available() else 'cpu'\n",
    "\n",
    "# for reproducibility\n",
    "torch.manual_seed(777)\n",
    "if device == 'cuda':\n",
    "    torch.cuda.manual_seed_all(777)"
   ]
  },
  {
   "cell_type": "code",
   "execution_count": 3,
   "metadata": {},
   "outputs": [],
   "source": [
    "X = torch.FloatTensor([[0, 0], [0, 1], [1, 0], [1, 1]]).to(device)\n",
    "Y = torch.FloatTensor([[0], [1], [1], [0]]).to(device)"
   ]
  },
  {
   "cell_type": "code",
   "execution_count": 4,
   "metadata": {},
   "outputs": [],
   "source": [
    "# nn layers\n",
    "linear1 = torch.nn.Linear(2, 10, bias=True)\n",
    "linear2 = torch.nn.Linear(10, 10, bias=True)\n",
    "linear3 = torch.nn.Linear(10, 10, bias=True)\n",
    "linear4 = torch.nn.Linear(10, 1, bias=True)\n",
    "sigmoid = torch.nn.Sigmoid()"
   ]
  },
  {
   "cell_type": "code",
   "execution_count": 5,
   "metadata": {},
   "outputs": [],
   "source": [
    "# model\n",
    "model = torch.nn.Sequential(linear1, sigmoid, linear2, sigmoid, linear3, sigmoid, linear4, sigmoid).to(device)"
   ]
  },
  {
   "cell_type": "code",
   "execution_count": 6,
   "metadata": {},
   "outputs": [],
   "source": [
    "# define cost/loss & optimizer\n",
    "criterion = torch.nn.BCELoss().to(device)\n",
    "optimizer = torch.optim.SGD(model.parameters(), lr=1)  # modified learning rate from 0.1 to 1"
   ]
  },
  {
   "cell_type": "code",
   "execution_count": 7,
   "metadata": {},
   "outputs": [
    {
     "name": "stdout",
     "output_type": "stream",
     "text": [
      "0 0.6949131488800049\n",
      "100 0.6931622624397278\n",
      "200 0.6931502819061279\n",
      "300 0.693134605884552\n",
      "400 0.6931593418121338\n",
      "500 0.6931577920913696\n",
      "600 0.6931705474853516\n",
      "700 0.6931551694869995\n",
      "800 0.6931219100952148\n",
      "900 0.6931583881378174\n",
      "1000 0.6931413412094116\n",
      "1100 0.6931644678115845\n",
      "1200 0.6931298971176147\n",
      "1300 0.693152666091919\n",
      "1400 0.6931102275848389\n",
      "1500 0.693116307258606\n",
      "1600 0.6931234002113342\n",
      "1700 0.6931187510490417\n",
      "1800 0.6931352615356445\n",
      "1900 0.6931188106536865\n",
      "2000 0.6931113600730896\n",
      "2100 0.6931437849998474\n",
      "2200 0.6931344270706177\n",
      "2300 0.6931063532829285\n",
      "2400 0.6930818557739258\n",
      "2500 0.6931159496307373\n",
      "2600 0.6930930614471436\n",
      "2700 0.6931056976318359\n",
      "2800 0.6930962800979614\n",
      "2900 0.6930747032165527\n",
      "3000 0.6930655837059021\n",
      "3100 0.6930579543113708\n",
      "3200 0.6930770874023438\n",
      "3300 0.6930592060089111\n",
      "3400 0.6930215358734131\n",
      "3500 0.6929994821548462\n",
      "3600 0.693027138710022\n",
      "3700 0.6929840445518494\n",
      "3800 0.6929746866226196\n",
      "3900 0.692941427230835\n",
      "4000 0.6929223537445068\n",
      "4100 0.6928538084030151\n",
      "4200 0.6928302049636841\n",
      "4300 0.6926970481872559\n",
      "4400 0.6926206350326538\n",
      "4500 0.6924434900283813\n",
      "4600 0.6921883821487427\n",
      "4700 0.6917165517807007\n",
      "4800 0.6907198429107666\n",
      "4900 0.6887518167495728\n",
      "5000 0.6822380423545837\n",
      "5100 0.6483939290046692\n",
      "5200 0.5375893115997314\n",
      "5300 0.04502292722463608\n",
      "5400 0.009915675967931747\n",
      "5500 0.005041099153459072\n",
      "5600 0.0032739483285695314\n",
      "5700 0.002395834308117628\n",
      "5800 0.0018651328282430768\n",
      "5900 0.0015268039423972368\n",
      "6000 0.0012817097594961524\n",
      "6100 0.001106270239688456\n",
      "6200 0.0009672122541815042\n",
      "6300 0.0008611795492470264\n",
      "6400 0.0007728749187663198\n",
      "6500 0.0007003701757639647\n",
      "6600 0.0006404855521395802\n",
      "6700 0.0005893269553780556\n",
      "6800 0.0005457900115288794\n",
      "6900 0.0005079651600681245\n",
      "7000 0.0004751211090479046\n",
      "7100 0.00044493190944194794\n",
      "7200 0.0004191711777821183\n",
      "7300 0.0003953937557525933\n",
      "7400 0.0003752095508389175\n",
      "7500 0.0003557561431080103\n",
      "7600 0.00033803231781348586\n",
      "7700 0.0003227385168429464\n",
      "7800 0.00030857775709591806\n",
      "7900 0.000295102916425094\n",
      "8000 0.00028322316939011216\n",
      "8100 0.00027240178314968944\n",
      "8200 0.0002618786529637873\n",
      "8300 0.00025132583687081933\n",
      "8400 0.00024272568407468498\n",
      "8500 0.00023369333939626813\n",
      "8600 0.0002262857015011832\n",
      "8700 0.00021841608395334333\n",
      "8800 0.00021209658007137477\n",
      "8900 0.00020558337564580142\n",
      "9000 0.00019902546773664653\n",
      "9100 0.00019334699027240276\n",
      "9200 0.0001879666087916121\n",
      "9300 0.0001831526169553399\n",
      "9400 0.0001781895844032988\n",
      "9500 0.00017318189202342182\n",
      "9600 0.00016914296429604292\n",
      "9700 0.0001648059842409566\n",
      "9800 0.00016064784722402692\n",
      "9900 0.0001568027219036594\n",
      "10000 0.00015328548033721745\n"
     ]
    }
   ],
   "source": [
    "for step in range(10001):\n",
    "    optimizer.zero_grad()\n",
    "    hypothesis = model(X)\n",
    "\n",
    "    # cost/loss function\n",
    "    cost = criterion(hypothesis, Y)\n",
    "    #3줄짜리 코드 .backward로 역전파 구현\n",
    "    cost.backward()\n",
    "    # gradient descent .step()으로 구현\n",
    "    optimizer.step()\n",
    "\n",
    "    if step % 100 == 0:\n",
    "        print(step, cost.item())"
   ]
  },
  {
   "cell_type": "code",
   "execution_count": 8,
   "metadata": {},
   "outputs": [
    {
     "name": "stdout",
     "output_type": "stream",
     "text": [
      "\n",
      "Hypothesis:  [[1.0776012e-04]\n",
      " [9.9983215e-01]\n",
      " [9.9984431e-01]\n",
      " [1.8187882e-04]] \n",
      "Correct:  [[0.]\n",
      " [1.]\n",
      " [1.]\n",
      " [0.]] \n",
      "Accuracy:  1.0\n"
     ]
    }
   ],
   "source": [
    "# Accuracy computation\n",
    "# True if hypothesis>0.5 else False\n",
    "with torch.no_grad():\n",
    "    hypothesis = model(X)\n",
    "    predicted = (hypothesis > 0.5).float()\n",
    "    accuracy = (predicted == Y).float().mean()\n",
    "    print('\\nHypothesis: ', hypothesis.detach().cpu().numpy(), '\\nCorrect: ', predicted.detach().cpu().numpy(), '\\nAccuracy: ', accuracy.item())"
   ]
  }
 ],
 "metadata": {
  "kernelspec": {
   "display_name": "Python 3.8.13 ('env4': conda)",
   "language": "python",
   "name": "python3"
  },
  "language_info": {
   "codemirror_mode": {
    "name": "ipython",
    "version": 3
   },
   "file_extension": ".py",
   "mimetype": "text/x-python",
   "name": "python",
   "nbconvert_exporter": "python",
   "pygments_lexer": "ipython3",
   "version": "3.8.13"
  },
  "vscode": {
   "interpreter": {
    "hash": "63301e4fe4b78fcf39a96467f603b047125068b6a19ded5094bb8eb22a28c1aa"
   }
  }
 },
 "nbformat": 4,
 "nbformat_minor": 1
}
